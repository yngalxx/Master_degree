{
 "cells": [
  {
   "cell_type": "code",
   "execution_count": 12,
   "metadata": {},
   "outputs": [],
   "source": [
    "import pandas as pd\n",
    "import sys\n",
    "import ast\n",
    "import numpy as np\n",
    "from tqdm.notebook import tqdm\n",
    "sys.path.append('../src/')\n",
    "from functions import from_tsv_to_list\n",
    "from functions import save_list_to_tsv_file\n",
    "sys.path.append(\"../../\")\n",
    "from image_size import get_image_size  # source: https://github.com/scardine/image_size"
   ]
  },
  {
   "cell_type": "code",
   "execution_count": 13,
   "metadata": {},
   "outputs": [
    {
     "name": "stdout",
     "output_type": "stream",
     "text": [
      "(3) No such file or directory\n"
     ]
    }
   ],
   "source": [
    "# test\n",
    "try:\n",
    "    test_df = pd.read_csv('../model_output/test_model_output.csv', index_col=0)\n",
    "    in_test = from_tsv_to_list('../preprocessed_annotations/test-A/in.tsv')\n",
    "except:\n",
    "    print('(1) No such file or directory')\n",
    "# val\n",
    "try:\n",
    "    val_df = pd.read_csv('../model_output/val_model_output.csv', index_col=0)\n",
    "    in_val = from_tsv_to_list('../preprocessed_annotations/dev-0/in.tsv')\n",
    "except:\n",
    "    print('(2) No such file or directory')\n",
    "# train\n",
    "try:\n",
    "    train_df = pd.read_csv('../model_output/train_model_output.csv', index_col=0)\n",
    "    in_train = from_tsv_to_list('../preprocessed_annotations/train/in.tsv')\n",
    "except:\n",
    "    print('(3) No such file or directory')\n"
   ]
  },
  {
   "cell_type": "code",
   "execution_count": 14,
   "metadata": {},
   "outputs": [],
   "source": [
    "def parse_model_outcome(model_outcome_df, in_file, image_directory):\n",
    "    # getting images size before rescale\n",
    "    img_old_sizes_list = []\n",
    "    for i in range(len(in_file)):\n",
    "        img_width, img_height = get_image_size.get_image_size(\n",
    "            image_directory + in_file[i]\n",
    "        )\n",
    "        img_old_sizes_list.append([img_width, img_height])\n",
    "    \n",
    "    model_outcome_df['old_image_size'] = img_old_sizes_list\n",
    "\n",
    "    scaler_width, scaler_height = [], []\n",
    "    for i in range(len(model_outcome_df)):\n",
    "        old_image_size_width = model_outcome_df['old_image_size'][i][0]\n",
    "        old_image_size_height = model_outcome_df['old_image_size'][i][1]\n",
    "        new_image_size_width = np.float(ast.literal_eval(model_outcome_df['new_image_size'][i])[0][0])\n",
    "        new_image_size_height = np.float(ast.literal_eval(model_outcome_df['new_image_size'][i])[0][0])\n",
    "\n",
    "        scaler_width.append(np.float(old_image_size_width)/np.float(new_image_size_width))\n",
    "        scaler_height.append(np.float(old_image_size_height)/np.float(new_image_size_height))\n",
    "\n",
    "    out_list = []\n",
    "    for i in range(len(model_outcome_df)):\n",
    "        pred_labels = ast.literal_eval(model_outcome_df['predicted_labels'][i])\n",
    "        pred_boxes = ast.literal_eval(model_outcome_df['predicted_boxes'][i])\n",
    "        pred_score = ast.literal_eval(model_outcome_df['score'][i])\n",
    "        out_str = ''\n",
    "        for ii in range(len(pred_labels)):        \n",
    "            if int(pred_labels[ii]) == 1:\n",
    "                label = 'photograph'\n",
    "            elif int(pred_labels[ii]) == 2:\n",
    "                label = 'illustration'\n",
    "            elif int(pred_labels[ii]) == 3:\n",
    "                label = 'map'\n",
    "            elif int(pred_labels[ii]) == 4:\n",
    "                label = 'cartoon'\n",
    "            elif int(pred_labels[ii]) == 5:\n",
    "                label = 'editorial_cartoon'\n",
    "            elif int(pred_labels[ii]) == 6:\n",
    "                label = 'headline'\n",
    "            elif int(pred_labels[ii]) == 7:\n",
    "                label = 'advertisement'\n",
    "            x0 = str(int(round(pred_boxes[ii][0],0)*scaler_width[i]))\n",
    "            y0 = str(int(round(pred_boxes[ii][1],0)*scaler_height[i]))\n",
    "            x1 = str(int(round(pred_boxes[ii][2],0)*scaler_width[i]))\n",
    "            y1 = str(int(round(pred_boxes[ii][3],0)*scaler_height[i]))\n",
    "\n",
    "            out_str = out_str + f'{label}:{x0},{y0},{x1},{y1}:{pred_score[ii]} '\n",
    "        \n",
    "        out_str = out_str.strip(\" \")\n",
    "        out_list.append(out_str)\n",
    "\n",
    "    return out_list\n",
    "\n"
   ]
  },
  {
   "cell_type": "code",
   "execution_count": 15,
   "metadata": {},
   "outputs": [
    {
     "name": "stdout",
     "output_type": "stream",
     "text": [
      "(3) No such file or directory\n"
     ]
    }
   ],
   "source": [
    "# test\n",
    "try:\n",
    "    out_list_test = parse_model_outcome(test_df, in_test, '../scraped_photos/')\n",
    "    save_list_to_tsv_file('../preprocessed_annotations/test-A/out.tsv', out_list_test)\n",
    "except:\n",
    "    print('(1) No such file or directory')\n",
    "# val\n",
    "try:\n",
    "    out_list_val = parse_model_outcome(val_df, in_val, '../scraped_photos/')\n",
    "    save_list_to_tsv_file('../preprocessed_annotations/dev-0/out.tsv', out_list_val)\n",
    "except:\n",
    "    print('(2) No such file or directory')\n",
    "# train\n",
    "try:\n",
    "    out_list_train = parse_model_outcome(train_df, in_train, '../scraped_photos/')\n",
    "    save_list_to_tsv_file('../preprocessed_annotations/train/out.tsv', out_list_train)\n",
    "except:\n",
    "    print('(3) No such file or directory')"
   ]
  }
 ],
 "metadata": {
  "interpreter": {
   "hash": "194abc17d4ddcff4b4cd4683b097beefe0e85feee2c9e783f126714953738c22"
  },
  "kernelspec": {
   "display_name": "Python 3.8.5 ('my_anaconda_dont')",
   "language": "python",
   "name": "python3"
  },
  "language_info": {
   "codemirror_mode": {
    "name": "ipython",
    "version": 3
   },
   "file_extension": ".py",
   "mimetype": "text/x-python",
   "name": "python",
   "nbconvert_exporter": "python",
   "pygments_lexer": "ipython3",
   "version": "3.8.5"
  },
  "orig_nbformat": 4
 },
 "nbformat": 4,
 "nbformat_minor": 2
}
