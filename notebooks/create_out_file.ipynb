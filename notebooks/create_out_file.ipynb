{
 "cells": [
  {
   "cell_type": "code",
   "execution_count": 1,
   "metadata": {},
   "outputs": [],
   "source": [
    "import pandas as pd\n",
    "import sys\n",
    "import ast\n",
    "import numpy as np\n",
    "from tqdm.notebook import tqdm\n",
    "sys.path.append('../src/')\n",
    "from functions import from_tsv_to_list\n",
    "from functions import save_list_to_tsv_file\n",
    "sys.path.append(\"../../\")\n",
    "from image_size import get_image_size  # source: https://github.com/scardine/image_size"
   ]
  },
  {
   "cell_type": "code",
   "execution_count": 2,
   "metadata": {},
   "outputs": [
    {
     "name": "stdout",
     "output_type": "stream",
     "text": [
      "(3) No such file or directory\n"
     ]
    }
   ],
   "source": [
    "# images\n",
    "image_dir = '../../scraped_photos_final/'\n",
    "\n",
    "# test\n",
    "try:\n",
    "    test_df = pd.read_csv('../model_output/test_model_output.csv', index_col=0)\n",
    "    in_test = from_tsv_to_list('../../news-navigator/test-A/in.tsv')\n",
    "except:\n",
    "    print('(1) No such file or directory')\n",
    "# val\n",
    "try:\n",
    "    val_df = pd.read_csv('../model_output/val_model_output.csv', index_col=0)\n",
    "    in_val = from_tsv_to_list('../../news-navigator/dev-0/in.tsv')\n",
    "except:\n",
    "    print('(2) No such file or directory')\n",
    "# train\n",
    "try:\n",
    "    train_df = pd.read_csv('../model_output/train_model_output.csv', index_col=0)\n",
    "    in_train = from_tsv_to_list('../../news-navigator/train/in.tsv')\n",
    "except:\n",
    "    print('(3) No such file or directory')\n"
   ]
  },
  {
   "cell_type": "code",
   "execution_count": 3,
   "metadata": {},
   "outputs": [],
   "source": [
    "def parse_model_outcome(model_outcome_df, in_file, image_directory):\n",
    "    # getting images size before rescale\n",
    "    img_old_sizes_list = []\n",
    "    for i in range(len(in_file)):\n",
    "        img_width, img_height = get_image_size.get_image_size(\n",
    "            image_directory + in_file[i]\n",
    "        )\n",
    "        img_old_sizes_list.append([img_width, img_height])\n",
    "    \n",
    "    model_outcome_df['old_image_size'] = img_old_sizes_list\n",
    "\n",
    "    scaler_width, scaler_height = [], []\n",
    "    for i in range(len(model_outcome_df)):\n",
    "        old_image_size_width = model_outcome_df['old_image_size'][i][0]\n",
    "        old_image_size_height = model_outcome_df['old_image_size'][i][1]\n",
    "        new_image_size_width = np.float(ast.literal_eval(model_outcome_df['new_image_size'][i])[0][0])\n",
    "        new_image_size_height = np.float(ast.literal_eval(model_outcome_df['new_image_size'][i])[0][0])\n",
    "\n",
    "        scaler_width.append(np.float(old_image_size_width)/np.float(new_image_size_width))\n",
    "        scaler_height.append(np.float(old_image_size_height)/np.float(new_image_size_height))\n",
    "\n",
    "    out_list = []\n",
    "    for i in range(len(model_outcome_df)):\n",
    "        pred_labels = ast.literal_eval(model_outcome_df['predicted_labels'][i])\n",
    "        pred_boxes = ast.literal_eval(model_outcome_df['predicted_boxes'][i])\n",
    "        pred_score = ast.literal_eval(model_outcome_df['score'][i])\n",
    "        out_str = ''\n",
    "        for ii in range(len(pred_labels)):        \n",
    "            if int(pred_labels[ii]) == 1:\n",
    "                label = 'photograph'\n",
    "            elif int(pred_labels[ii]) == 2:\n",
    "                label = 'illustration'\n",
    "            elif int(pred_labels[ii]) == 3:\n",
    "                label = 'map'\n",
    "            elif int(pred_labels[ii]) == 4:\n",
    "                label = 'cartoon'\n",
    "            elif int(pred_labels[ii]) == 5:\n",
    "                label = 'editorial_cartoon'\n",
    "            elif int(pred_labels[ii]) == 6:\n",
    "                label = 'headline'\n",
    "            elif int(pred_labels[ii]) == 7:\n",
    "                label = 'advertisement'\n",
    "            x0 = str(int(round(pred_boxes[ii][0],0)*scaler_width[i]))\n",
    "            y0 = str(int(round(pred_boxes[ii][1],0)*scaler_height[i]))\n",
    "            x1 = str(int(round(pred_boxes[ii][2],0)*scaler_width[i]))\n",
    "            y1 = str(int(round(pred_boxes[ii][3],0)*scaler_height[i]))\n",
    "\n",
    "            out_str = out_str + f'{label}:{x0},{y0},{x1},{y1}:{pred_score} '\n",
    "        \n",
    "        out_str = out_str.strip(\" \")\n",
    "        out_list.append(out_str)\n",
    "\n",
    "    return out_list\n",
    "\n"
   ]
  },
  {
   "cell_type": "code",
   "execution_count": 5,
   "metadata": {},
   "outputs": [
    {
     "ename": "KeyError",
     "evalue": "'score'",
     "output_type": "error",
     "traceback": [
      "\u001b[0;31m---------------------------------------------------------------------------\u001b[0m",
      "\u001b[0;31mKeyError\u001b[0m                                  Traceback (most recent call last)",
      "\u001b[0;32m~/opt/miniconda3/envs/my_anaconda_dont/lib/python3.8/site-packages/pandas/core/indexes/base.py\u001b[0m in \u001b[0;36mget_loc\u001b[0;34m(self, key, method, tolerance)\u001b[0m\n\u001b[1;32m   3360\u001b[0m             \u001b[0;32mtry\u001b[0m\u001b[0;34m:\u001b[0m\u001b[0;34m\u001b[0m\u001b[0;34m\u001b[0m\u001b[0m\n\u001b[0;32m-> 3361\u001b[0;31m                 \u001b[0;32mreturn\u001b[0m \u001b[0mself\u001b[0m\u001b[0;34m.\u001b[0m\u001b[0m_engine\u001b[0m\u001b[0;34m.\u001b[0m\u001b[0mget_loc\u001b[0m\u001b[0;34m(\u001b[0m\u001b[0mcasted_key\u001b[0m\u001b[0;34m)\u001b[0m\u001b[0;34m\u001b[0m\u001b[0;34m\u001b[0m\u001b[0m\n\u001b[0m\u001b[1;32m   3362\u001b[0m             \u001b[0;32mexcept\u001b[0m \u001b[0mKeyError\u001b[0m \u001b[0;32mas\u001b[0m \u001b[0merr\u001b[0m\u001b[0;34m:\u001b[0m\u001b[0;34m\u001b[0m\u001b[0;34m\u001b[0m\u001b[0m\n",
      "\u001b[0;32m~/opt/miniconda3/envs/my_anaconda_dont/lib/python3.8/site-packages/pandas/_libs/index.pyx\u001b[0m in \u001b[0;36mpandas._libs.index.IndexEngine.get_loc\u001b[0;34m()\u001b[0m\n",
      "\u001b[0;32m~/opt/miniconda3/envs/my_anaconda_dont/lib/python3.8/site-packages/pandas/_libs/index.pyx\u001b[0m in \u001b[0;36mpandas._libs.index.IndexEngine.get_loc\u001b[0;34m()\u001b[0m\n",
      "\u001b[0;32mpandas/_libs/hashtable_class_helper.pxi\u001b[0m in \u001b[0;36mpandas._libs.hashtable.PyObjectHashTable.get_item\u001b[0;34m()\u001b[0m\n",
      "\u001b[0;32mpandas/_libs/hashtable_class_helper.pxi\u001b[0m in \u001b[0;36mpandas._libs.hashtable.PyObjectHashTable.get_item\u001b[0;34m()\u001b[0m\n",
      "\u001b[0;31mKeyError\u001b[0m: 'score'",
      "\nThe above exception was the direct cause of the following exception:\n",
      "\u001b[0;31mKeyError\u001b[0m                                  Traceback (most recent call last)",
      "\u001b[0;32m<ipython-input-5-7981bba4fc49>\u001b[0m in \u001b[0;36m<module>\u001b[0;34m\u001b[0m\n\u001b[0;32m----> 1\u001b[0;31m \u001b[0mout_list_test\u001b[0m \u001b[0;34m=\u001b[0m \u001b[0mparse_model_outcome\u001b[0m\u001b[0;34m(\u001b[0m\u001b[0mtest_df\u001b[0m\u001b[0;34m,\u001b[0m \u001b[0min_test\u001b[0m\u001b[0;34m,\u001b[0m \u001b[0mimage_dir\u001b[0m\u001b[0;34m)\u001b[0m\u001b[0;34m\u001b[0m\u001b[0;34m\u001b[0m\u001b[0m\n\u001b[0m\u001b[1;32m      2\u001b[0m     \u001b[0;31m# save_list_to_tsv_file('../../news-navigator/test-A/out.tsv', out_list_test)\u001b[0m\u001b[0;34m\u001b[0m\u001b[0;34m\u001b[0m\u001b[0;34m\u001b[0m\u001b[0m\n",
      "\u001b[0;32m<ipython-input-3-6d36f3499c2d>\u001b[0m in \u001b[0;36mparse_model_outcome\u001b[0;34m(model_outcome_df, in_file, image_directory)\u001b[0m\n\u001b[1;32m     24\u001b[0m         \u001b[0mpred_labels\u001b[0m \u001b[0;34m=\u001b[0m \u001b[0mast\u001b[0m\u001b[0;34m.\u001b[0m\u001b[0mliteral_eval\u001b[0m\u001b[0;34m(\u001b[0m\u001b[0mmodel_outcome_df\u001b[0m\u001b[0;34m[\u001b[0m\u001b[0;34m'predicted_labels'\u001b[0m\u001b[0;34m]\u001b[0m\u001b[0;34m[\u001b[0m\u001b[0mi\u001b[0m\u001b[0;34m]\u001b[0m\u001b[0;34m)\u001b[0m\u001b[0;34m\u001b[0m\u001b[0;34m\u001b[0m\u001b[0m\n\u001b[1;32m     25\u001b[0m         \u001b[0mpred_boxes\u001b[0m \u001b[0;34m=\u001b[0m \u001b[0mast\u001b[0m\u001b[0;34m.\u001b[0m\u001b[0mliteral_eval\u001b[0m\u001b[0;34m(\u001b[0m\u001b[0mmodel_outcome_df\u001b[0m\u001b[0;34m[\u001b[0m\u001b[0;34m'predicted_boxes'\u001b[0m\u001b[0;34m]\u001b[0m\u001b[0;34m[\u001b[0m\u001b[0mi\u001b[0m\u001b[0;34m]\u001b[0m\u001b[0;34m)\u001b[0m\u001b[0;34m\u001b[0m\u001b[0;34m\u001b[0m\u001b[0m\n\u001b[0;32m---> 26\u001b[0;31m         \u001b[0mpred_score\u001b[0m \u001b[0;34m=\u001b[0m \u001b[0mast\u001b[0m\u001b[0;34m.\u001b[0m\u001b[0mliteral_eval\u001b[0m\u001b[0;34m(\u001b[0m\u001b[0mmodel_outcome_df\u001b[0m\u001b[0;34m[\u001b[0m\u001b[0;34m'score'\u001b[0m\u001b[0;34m]\u001b[0m\u001b[0;34m[\u001b[0m\u001b[0mi\u001b[0m\u001b[0;34m]\u001b[0m\u001b[0;34m)\u001b[0m\u001b[0;34m\u001b[0m\u001b[0;34m\u001b[0m\u001b[0m\n\u001b[0m\u001b[1;32m     27\u001b[0m         \u001b[0mout_str\u001b[0m \u001b[0;34m=\u001b[0m \u001b[0;34m''\u001b[0m\u001b[0;34m\u001b[0m\u001b[0;34m\u001b[0m\u001b[0m\n\u001b[1;32m     28\u001b[0m         \u001b[0;32mfor\u001b[0m \u001b[0mii\u001b[0m \u001b[0;32min\u001b[0m \u001b[0mrange\u001b[0m\u001b[0;34m(\u001b[0m\u001b[0mlen\u001b[0m\u001b[0;34m(\u001b[0m\u001b[0mpred_labels\u001b[0m\u001b[0;34m)\u001b[0m\u001b[0;34m)\u001b[0m\u001b[0;34m:\u001b[0m\u001b[0;34m\u001b[0m\u001b[0;34m\u001b[0m\u001b[0m\n",
      "\u001b[0;32m~/opt/miniconda3/envs/my_anaconda_dont/lib/python3.8/site-packages/pandas/core/frame.py\u001b[0m in \u001b[0;36m__getitem__\u001b[0;34m(self, key)\u001b[0m\n\u001b[1;32m   3456\u001b[0m             \u001b[0;32mif\u001b[0m \u001b[0mself\u001b[0m\u001b[0;34m.\u001b[0m\u001b[0mcolumns\u001b[0m\u001b[0;34m.\u001b[0m\u001b[0mnlevels\u001b[0m \u001b[0;34m>\u001b[0m \u001b[0;36m1\u001b[0m\u001b[0;34m:\u001b[0m\u001b[0;34m\u001b[0m\u001b[0;34m\u001b[0m\u001b[0m\n\u001b[1;32m   3457\u001b[0m                 \u001b[0;32mreturn\u001b[0m \u001b[0mself\u001b[0m\u001b[0;34m.\u001b[0m\u001b[0m_getitem_multilevel\u001b[0m\u001b[0;34m(\u001b[0m\u001b[0mkey\u001b[0m\u001b[0;34m)\u001b[0m\u001b[0;34m\u001b[0m\u001b[0;34m\u001b[0m\u001b[0m\n\u001b[0;32m-> 3458\u001b[0;31m             \u001b[0mindexer\u001b[0m \u001b[0;34m=\u001b[0m \u001b[0mself\u001b[0m\u001b[0;34m.\u001b[0m\u001b[0mcolumns\u001b[0m\u001b[0;34m.\u001b[0m\u001b[0mget_loc\u001b[0m\u001b[0;34m(\u001b[0m\u001b[0mkey\u001b[0m\u001b[0;34m)\u001b[0m\u001b[0;34m\u001b[0m\u001b[0;34m\u001b[0m\u001b[0m\n\u001b[0m\u001b[1;32m   3459\u001b[0m             \u001b[0;32mif\u001b[0m \u001b[0mis_integer\u001b[0m\u001b[0;34m(\u001b[0m\u001b[0mindexer\u001b[0m\u001b[0;34m)\u001b[0m\u001b[0;34m:\u001b[0m\u001b[0;34m\u001b[0m\u001b[0;34m\u001b[0m\u001b[0m\n\u001b[1;32m   3460\u001b[0m                 \u001b[0mindexer\u001b[0m \u001b[0;34m=\u001b[0m \u001b[0;34m[\u001b[0m\u001b[0mindexer\u001b[0m\u001b[0;34m]\u001b[0m\u001b[0;34m\u001b[0m\u001b[0;34m\u001b[0m\u001b[0m\n",
      "\u001b[0;32m~/opt/miniconda3/envs/my_anaconda_dont/lib/python3.8/site-packages/pandas/core/indexes/base.py\u001b[0m in \u001b[0;36mget_loc\u001b[0;34m(self, key, method, tolerance)\u001b[0m\n\u001b[1;32m   3361\u001b[0m                 \u001b[0;32mreturn\u001b[0m \u001b[0mself\u001b[0m\u001b[0;34m.\u001b[0m\u001b[0m_engine\u001b[0m\u001b[0;34m.\u001b[0m\u001b[0mget_loc\u001b[0m\u001b[0;34m(\u001b[0m\u001b[0mcasted_key\u001b[0m\u001b[0;34m)\u001b[0m\u001b[0;34m\u001b[0m\u001b[0;34m\u001b[0m\u001b[0m\n\u001b[1;32m   3362\u001b[0m             \u001b[0;32mexcept\u001b[0m \u001b[0mKeyError\u001b[0m \u001b[0;32mas\u001b[0m \u001b[0merr\u001b[0m\u001b[0;34m:\u001b[0m\u001b[0;34m\u001b[0m\u001b[0;34m\u001b[0m\u001b[0m\n\u001b[0;32m-> 3363\u001b[0;31m                 \u001b[0;32mraise\u001b[0m \u001b[0mKeyError\u001b[0m\u001b[0;34m(\u001b[0m\u001b[0mkey\u001b[0m\u001b[0;34m)\u001b[0m \u001b[0;32mfrom\u001b[0m \u001b[0merr\u001b[0m\u001b[0;34m\u001b[0m\u001b[0;34m\u001b[0m\u001b[0m\n\u001b[0m\u001b[1;32m   3364\u001b[0m \u001b[0;34m\u001b[0m\u001b[0m\n\u001b[1;32m   3365\u001b[0m         \u001b[0;32mif\u001b[0m \u001b[0mis_scalar\u001b[0m\u001b[0;34m(\u001b[0m\u001b[0mkey\u001b[0m\u001b[0;34m)\u001b[0m \u001b[0;32mand\u001b[0m \u001b[0misna\u001b[0m\u001b[0;34m(\u001b[0m\u001b[0mkey\u001b[0m\u001b[0;34m)\u001b[0m \u001b[0;32mand\u001b[0m \u001b[0;32mnot\u001b[0m \u001b[0mself\u001b[0m\u001b[0;34m.\u001b[0m\u001b[0mhasnans\u001b[0m\u001b[0;34m:\u001b[0m\u001b[0;34m\u001b[0m\u001b[0;34m\u001b[0m\u001b[0m\n",
      "\u001b[0;31mKeyError\u001b[0m: 'score'"
     ]
    }
   ],
   "source": [
    "out_list_test = parse_model_outcome(test_df, in_test, image_dir)\n",
    "    # save_list_to_tsv_file('../../news-navigator/test-A/out.tsv', out_list_test)"
   ]
  },
  {
   "cell_type": "code",
   "execution_count": 4,
   "metadata": {},
   "outputs": [
    {
     "name": "stdout",
     "output_type": "stream",
     "text": [
      "(1) No such file or directory\n",
      "(2) No such file or directory\n",
      "(3) No such file or directory\n"
     ]
    }
   ],
   "source": [
    "# test\n",
    "try:\n",
    "    out_list_test = parse_model_outcome(test_df, in_test, image_dir)\n",
    "    save_list_to_tsv_file('../../news-navigator/test-A/out.tsv', out_list_test)\n",
    "except:\n",
    "    print('(1) No such file or directory')\n",
    "# val\n",
    "try:\n",
    "    out_list_val = parse_model_outcome(val_df, in_val, image_dir)\n",
    "    save_list_to_tsv_file('../../news-navigator/dev-0/out.tsv', out_list_val)\n",
    "except:\n",
    "    print('(2) No such file or directory')\n",
    "# train\n",
    "try:\n",
    "    out_list_train = parse_model_outcome(train_df, in_train, image_dir)\n",
    "    save_list_to_tsv_file('../../news-navigator/train/out.tsv', out_list_train)\n",
    "except:\n",
    "    print('(3) No such file or directory')"
   ]
  },
  {
   "cell_type": "code",
   "execution_count": null,
   "metadata": {},
   "outputs": [],
   "source": []
  }
 ],
 "metadata": {
  "interpreter": {
   "hash": "194abc17d4ddcff4b4cd4683b097beefe0e85feee2c9e783f126714953738c22"
  },
  "kernelspec": {
   "display_name": "Python 3.8.5 ('my_anaconda_dont')",
   "language": "python",
   "name": "python3"
  },
  "language_info": {
   "codemirror_mode": {
    "name": "ipython",
    "version": 3
   },
   "file_extension": ".py",
   "mimetype": "text/x-python",
   "name": "python",
   "nbconvert_exporter": "python",
   "pygments_lexer": "ipython3",
   "version": "3.8.5"
  },
  "orig_nbformat": 4
 },
 "nbformat": 4,
 "nbformat_minor": 2
}
