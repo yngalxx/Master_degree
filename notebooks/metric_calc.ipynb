{
 "cells": [
  {
   "cell_type": "code",
   "execution_count": 6,
   "metadata": {},
   "outputs": [],
   "source": [
    "import torch\n",
    "import sys\n",
    "from torch.utils.data import DataLoader\n",
    "import torchvision.transforms as T\n",
    "from tqdm.notebook import tqdm\n",
    "from pathlib import Path\n",
    "\n",
    "sys.path.append('../src/')\n",
    "from newspapersdataset import (\n",
    "    NewspapersDataset, \n",
    "    prepare_data_for_dataloader\n",
    ")\n",
    "from functions import (\n",
    "    from_tsv_to_list,\n",
    "    collate_fn,\n",
    "    predict_eval_set,\n",
    "    prepare_data_for_ap,\n",
    "    calculate_map\n",
    ")\n",
    "\n",
    "sys.path.append(\"../../\")\n",
    "from image_size import get_image_size  # source: https://github.com/scardine/image_size"
   ]
  },
  {
   "cell_type": "code",
   "execution_count": 7,
   "metadata": {},
   "outputs": [],
   "source": [
    "parameters = {\n",
    "    'channel': 1, \n",
    "    'rescale': [1000, 1000],\n",
    "    'batch_size': 16,\n",
    "    'shuffle': False, \n",
    "    'num_workers': 2,\n",
    "    'main_dir': f'{str(Path.cwd().parent)}',\n",
    "    'gpu': False,\n",
    "}"
   ]
  },
  {
   "cell_type": "code",
   "execution_count": 8,
   "metadata": {},
   "outputs": [],
   "source": [
    "if torch.cuda.is_available() and parameters['gpu']:\n",
    "    model = torch.load('../saved_models/model.pth')\n",
    "    device = torch.device(torch.cuda.current_device())\n",
    "else:\n",
    "    model = torch.load('../saved_models/model.pth', map_location=torch.device('cpu'))\n",
    "    device = torch.device(\"cpu\")"
   ]
  },
  {
   "cell_type": "code",
   "execution_count": 9,
   "metadata": {},
   "outputs": [],
   "source": [
    "data_transform = T.Compose([\n",
    "    T.Grayscale(num_output_channels=parameters['channel']),\n",
    "    T.ToTensor(),\n",
    "    T.Normalize((0.5,), (0.5,)),\n",
    "    ])"
   ]
  },
  {
   "cell_type": "code",
   "execution_count": 22,
   "metadata": {},
   "outputs": [],
   "source": [
    "# prepare val dataloader\n",
    "expected_val = from_tsv_to_list(parameters['main_dir']+'/preprocessed_annotations/dev-0/expected.tsv')\n",
    "in_file_val = from_tsv_to_list(parameters['main_dir']+'/preprocessed_annotations/dev-0/in.tsv')\n",
    "img_paths_val = [parameters['main_dir']+'/scraped_photos/'+path for path in in_file_val]\n",
    "\n",
    "data_val = prepare_data_for_dataloader(\n",
    "    img_dir=parameters['main_dir']+'/scraped_photos/',\n",
    "    in_list=in_file_val,\n",
    "    expected_list=expected_val,\n",
    "    bbox_format='x0y0x1y1',\n",
    "    scale=parameters['rescale'],\n",
    "    test=False,\n",
    "    )\n",
    "dataset_val = NewspapersDataset(\n",
    "    df=data_val,\n",
    "    images_path=img_paths_val,\n",
    "    scale=parameters['rescale'],\n",
    "    transforms=data_transform,\n",
    "    test=False,\n",
    "    )\n",
    "dataloader_val = DataLoader(\n",
    "    dataset_val,\n",
    "    batch_size=parameters['batch_size'],\n",
    "    shuffle=parameters['shuffle'],\n",
    "    collate_fn=collate_fn,\n",
    "    num_workers=parameters['num_workers'],\n",
    "    )"
   ]
  },
  {
   "cell_type": "code",
   "execution_count": 23,
   "metadata": {},
   "outputs": [
    {
     "name": "stderr",
     "output_type": "stream",
     "text": [
      "100%|██████████| 14/14 [20:44<00:00, 88.91s/it]\n"
     ]
    }
   ],
   "source": [
    "# make prediction on test set\n",
    "out_val, targ_val = predict_eval_set(\n",
    "    dataloader=dataloader_val,\n",
    "    model=model,\n",
    "    device=device\n",
    ")"
   ]
  },
  {
   "cell_type": "code",
   "execution_count": 24,
   "metadata": {},
   "outputs": [],
   "source": [
    "# prepare data into a format adequate for AP calculation\n",
    "prep_pred_val, prepr_gt_val= prepare_data_for_ap(out_val, targ_val)"
   ]
  },
  {
   "cell_type": "code",
   "execution_count": 25,
   "metadata": {},
   "outputs": [],
   "source": [
    "# calculate AP for each clas and mean AP based on preprocessed model results\n",
    "eval_metrics_val = calculate_map(prep_pred_val, prepr_gt_val)"
   ]
  },
  {
   "cell_type": "code",
   "execution_count": 26,
   "metadata": {},
   "outputs": [
    {
     "data": {
      "text/plain": [
       "{'photograph': 0.76625425,\n",
       " 'illustration': 0.31763086,\n",
       " 'map': 0.65815836,\n",
       " 'cartoon': 0.67715204,\n",
       " 'editorial_cartoon': 0.3822639,\n",
       " 'headline': 0.9000255,\n",
       " 'advertisement': 0.81451476,\n",
       " 'mAP': 0.5231611}"
      ]
     },
     "execution_count": 26,
     "metadata": {},
     "output_type": "execute_result"
    }
   ],
   "source": [
    "eval_metrics_val"
   ]
  },
  {
   "cell_type": "code",
   "execution_count": 10,
   "metadata": {},
   "outputs": [],
   "source": [
    "# prepare test dataloader\n",
    "expected_test = from_tsv_to_list(parameters['main_dir']+'/preprocessed_annotations/test-A/expected.tsv')\n",
    "in_file_test = from_tsv_to_list(parameters['main_dir']+'/preprocessed_annotations/test-A/in.tsv')\n",
    "img_paths_test = [parameters['main_dir']+'/scraped_photos/'+path for path in in_file_test]\n",
    "\n",
    "data_test = prepare_data_for_dataloader(\n",
    "    img_dir=parameters['main_dir']+'/scraped_photos/',\n",
    "    in_list=in_file_test,\n",
    "    expected_list=expected_test,\n",
    "    bbox_format='x0y0x1y1',\n",
    "    scale=parameters['rescale'],\n",
    "    test=False,\n",
    "    )\n",
    "dataset_test = NewspapersDataset(\n",
    "    df=data_test,\n",
    "    images_path=img_paths_test,\n",
    "    scale=parameters['rescale'],\n",
    "    transforms=data_transform,\n",
    "    test=False,\n",
    "    )\n",
    "dataloader_test = DataLoader(\n",
    "    dataset_test,\n",
    "    batch_size=parameters['batch_size'],\n",
    "    shuffle=parameters['shuffle'],\n",
    "    collate_fn=collate_fn,\n",
    "    num_workers=parameters['num_workers'],\n",
    "    )"
   ]
  },
  {
   "cell_type": "code",
   "execution_count": 11,
   "metadata": {},
   "outputs": [
    {
     "name": "stderr",
     "output_type": "stream",
     "text": [
      "100%|██████████| 45/45 [1:08:17<00:00, 91.06s/it]\n"
     ]
    }
   ],
   "source": [
    "# make prediction on test set\n",
    "out_test, targ_test = predict_eval_set(\n",
    "    dataloader=dataloader_test,\n",
    "    model=model,\n",
    "    device=device\n",
    ")"
   ]
  },
  {
   "cell_type": "code",
   "execution_count": 17,
   "metadata": {},
   "outputs": [],
   "source": [
    "# prepare data into a format adequate for AP calculation\n",
    "prep_pred_test, prepr_gt_test = prepare_data_for_ap(out_test, targ_test)"
   ]
  },
  {
   "cell_type": "code",
   "execution_count": 20,
   "metadata": {},
   "outputs": [],
   "source": [
    "# calculate AP for each clas and mean AP based on preprocessed model results\n",
    "eval_metrics_test = calculate_map(prep_pred_test, prepr_gt_test)"
   ]
  },
  {
   "cell_type": "code",
   "execution_count": 21,
   "metadata": {},
   "outputs": [
    {
     "data": {
      "text/plain": [
       "{'photograph': 0.76897764,\n",
       " 'illustration': 0.4193151,\n",
       " 'map': 0.65971047,\n",
       " 'cartoon': 0.72911716,\n",
       " 'editorial_cartoon': 0.5587153,\n",
       " 'headline': 0.903047,\n",
       " 'advertisement': 0.8602427,\n",
       " 'mAP': 0.56490856}"
      ]
     },
     "execution_count": 21,
     "metadata": {},
     "output_type": "execute_result"
    }
   ],
   "source": [
    "eval_metrics_test"
   ]
  },
  {
   "cell_type": "code",
   "execution_count": null,
   "metadata": {},
   "outputs": [],
   "source": []
  }
 ],
 "metadata": {
  "kernelspec": {
   "display_name": "Python 3.8.5 ('my_anaconda_dont')",
   "language": "python",
   "name": "python3"
  },
  "language_info": {
   "codemirror_mode": {
    "name": "ipython",
    "version": 3
   },
   "file_extension": ".py",
   "mimetype": "text/x-python",
   "name": "python",
   "nbconvert_exporter": "python",
   "pygments_lexer": "ipython3",
   "version": "3.8.5"
  },
  "orig_nbformat": 4,
  "vscode": {
   "interpreter": {
    "hash": "194abc17d4ddcff4b4cd4683b097beefe0e85feee2c9e783f126714953738c22"
   }
  }
 },
 "nbformat": 4,
 "nbformat_minor": 2
}
