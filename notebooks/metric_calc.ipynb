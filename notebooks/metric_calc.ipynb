{
 "cells": [
  {
   "cell_type": "code",
   "execution_count": 11,
   "metadata": {},
   "outputs": [],
   "source": [
    "import sys\n",
    "from pathlib import Path\n",
    "import pandas as pd\n",
    "\n",
    "sys.path.append('../')\n",
    "from src.functions_catalogue import (\n",
    "    from_tsv_to_list,\n",
    "    calculate_map,\n",
    "    prepare_data_for_ap\n",
    ")"
   ]
  },
  {
   "cell_type": "code",
   "execution_count": 12,
   "metadata": {},
   "outputs": [],
   "source": [
    "DIR_PATH = f'{str(Path.cwd().parent)}'"
   ]
  },
  {
   "cell_type": "code",
   "execution_count": 13,
   "metadata": {},
   "outputs": [
    {
     "name": "stdout",
     "output_type": "stream",
     "text": [
      "File: /Users/alexdrozdz/Desktop/Studia/00. Seminarium magisterskie/Master_degree/data/train/out.tsv\n",
      "Error while processing train files: [Errno 2] No such file or directory: '/Users/alexdrozdz/Desktop/Studia/00. Seminarium magisterskie/Master_degree/data/train/out.tsv'\n"
     ]
    }
   ],
   "source": [
    "# TRAIN SET\n",
    "try:\n",
    "    print(f'File: {DIR_PATH}/data/train/out.tsv')\n",
    "    out = from_tsv_to_list(f'{DIR_PATH}/data/train/out.tsv')\n",
    "    expected = from_tsv_to_list(f'{DIR_PATH}/data/train/expected.tsv')\n",
    "\n",
    "    pred_list, ground_truth_list = prepare_data_for_ap(\n",
    "        output_list=out, target_list=expected, from_file=True\n",
    "    )\n",
    "    map_dict = calculate_map(pred_list, ground_truth_list)\n",
    "    final_out = pd.DataFrame.from_dict(\n",
    "        map_dict, orient=\"index\", columns=[\"AP\"]\n",
    "    ).to_string()\n",
    "    \n",
    "    print(final_out)\n",
    "\n",
    "except Exception as e:\n",
    "    print(f\"Error while processing train files: {e}\")\n",
    "    pass"
   ]
  },
  {
   "cell_type": "code",
   "execution_count": 14,
   "metadata": {},
   "outputs": [
    {
     "name": "stdout",
     "output_type": "stream",
     "text": [
      "File: /Users/alexdrozdz/Desktop/Studia/00. Seminarium magisterskie/Master_degree/data/dev-0/out.tsv\n",
      "                       AP\n",
      "photograph         0.8883\n",
      "illustration       0.5673\n",
      "map                0.7525\n",
      "cartoon            1.0000\n",
      "editorial_cartoon  0.4224\n",
      "headline           0.9606\n",
      "advertisement      0.8273\n",
      "mean               0.6498\n"
     ]
    }
   ],
   "source": [
    "# VALIDATION SET\n",
    "try:\n",
    "    print(f'File: {DIR_PATH}/data/dev-0/out.tsv')\n",
    "    out = from_tsv_to_list(f'{DIR_PATH}/data/dev-0/out.tsv')\n",
    "    expected = from_tsv_to_list(f'{DIR_PATH}/data/dev-0/expected.tsv')\n",
    "\n",
    "    pred_list, ground_truth_list = prepare_data_for_ap(\n",
    "        output_list=out, target_list=expected\n",
    "    )\n",
    "    map_dict = calculate_map(pred_list, ground_truth_list)\n",
    "    final_out = pd.DataFrame.from_dict(\n",
    "        map_dict, orient=\"index\", columns=[\"AP\"]\n",
    "    ).to_string()\n",
    "    \n",
    "    print(final_out)\n",
    "\n",
    "except Exception as e:\n",
    "    print(f\"Error while processing validation files: {e}\")\n",
    "    pass\n"
   ]
  },
  {
   "cell_type": "code",
   "execution_count": 15,
   "metadata": {},
   "outputs": [
    {
     "name": "stdout",
     "output_type": "stream",
     "text": [
      "File: /Users/alexdrozdz/Desktop/Studia/00. Seminarium magisterskie/Master_degree/data/test-A/out.tsv\n",
      "                       AP\n",
      "photograph         0.7690\n",
      "illustration       0.4193\n",
      "map                0.6597\n",
      "cartoon            0.7236\n",
      "editorial_cartoon  0.5587\n",
      "headline           0.9030\n",
      "advertisement      0.8604\n",
      "mean               0.5632\n"
     ]
    }
   ],
   "source": [
    "# TEST SET\n",
    "try:\n",
    "    print(f'File: {DIR_PATH}/data/test-A/out.tsv')\n",
    "    out = from_tsv_to_list(f'{DIR_PATH}/data/test-A/out.tsv')\n",
    "    expected = from_tsv_to_list(f'{DIR_PATH}/data/test-A/expected.tsv')\n",
    "\n",
    "    pred_list, ground_truth_list = prepare_data_for_ap(\n",
    "        output_list=out, target_list=expected\n",
    "    )\n",
    "    map_dict = calculate_map(pred_list, ground_truth_list)\n",
    "    final_out = pd.DataFrame.from_dict(\n",
    "        map_dict, orient=\"index\", columns=[\"AP\"]\n",
    "    ).to_string()\n",
    "   \n",
    "    print(final_out)\n",
    "\n",
    "except Exception as e:\n",
    "    print(f\"Error while processing test files: {e}\")\n",
    "    pass"
   ]
  },
  {
   "cell_type": "code",
   "execution_count": null,
   "metadata": {},
   "outputs": [],
   "source": []
  }
 ],
 "metadata": {
  "kernelspec": {
   "display_name": "Python 3 (ipykernel)",
   "language": "python",
   "name": "python3"
  },
  "language_info": {
   "codemirror_mode": {
    "name": "ipython",
    "version": 3
   },
   "file_extension": ".py",
   "mimetype": "text/x-python",
   "name": "python",
   "nbconvert_exporter": "python",
   "pygments_lexer": "ipython3",
   "version": "3.8.5"
  },
  "vscode": {
   "interpreter": {
    "hash": "194abc17d4ddcff4b4cd4683b097beefe0e85feee2c9e783f126714953738c22"
   }
  }
 },
 "nbformat": 4,
 "nbformat_minor": 2
}
